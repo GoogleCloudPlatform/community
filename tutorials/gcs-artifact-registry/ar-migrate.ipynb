{
 "cells": [
  {
   "cell_type": "code",
   "execution_count": 1,
   "id": "fa3e02ed-9ab0-43c9-89e3-3f1790911ad8",
   "metadata": {},
   "outputs": [],
   "source": [
    "import os\n",
    "import json\n",
    "import requests\n",
    "import pandas as pd\n",
    "import google.auth\n",
    "import google.cloud.storage"
   ]
  },
  {
   "cell_type": "code",
   "execution_count": 2,
   "id": "bfbba290-7199-4fc3-9ae4-424b2d37f384",
   "metadata": {},
   "outputs": [],
   "source": [
    "PROJECT = os.environ.get('PROJECT','zyrun-334412')\n",
    "BUCKET = os.environ.get('BUCKET','python-repo-bucket')\n",
    "REGION = os.environ.get('REGION', 'asia-southeast1')\n",
    "REGISTRY_NAME = os.environ.get('REGISTRY_NAME', 'python-repo')\n",
    "REGISTRY_API = (\n",
    "                  f'https://artifactregistry.googleapis.com/v1beta2/projects/'\n",
    "                  f'{PROJECT}/locations/{REGION}/repositories/{REGISTRY_NAME}/files'\n",
    "                )\n",
    "REGISTRY_PATH = f'https://{REGION}-python.pkg.dev/{PROJECT}/{REGISTRY_NAME}/'"
   ]
  },
  {
   "cell_type": "code",
   "execution_count": 3,
   "id": "4647e853-0602-4388-9a9d-b8d427c059b9",
   "metadata": {},
   "outputs": [],
   "source": [
    "#Query Artifact Registry Packages\n",
    "def ar_query(credentials):\n",
    "    r = requests.get(REGISTRY_API, \n",
    "                 headers={'Authorization': 'Bearer ' + str(credentials.token)})\n",
    "    if r.status_code == 200:\n",
    "        if r.json() == {}:\n",
    "            return []\n",
    "        else: \n",
    "            #existing packges in artifact registry\n",
    "            df=pd.DataFrame.from_records(r.json()['files'])\n",
    "            df['packages'] =  df['name'].apply(lambda x: x.split('%2F')[-1])\n",
    "            return df['packages'].values\n",
    "    else:\n",
    "        raise ValueError(\"Error Querying Artifact Registry\")"
   ]
  },
  {
   "cell_type": "code",
   "execution_count": 4,
   "id": "4e9a789b-86f2-4cee-8252-b49f1434148a",
   "metadata": {},
   "outputs": [],
   "source": [
    "# getting the credentials and project details for gcp project\n",
    "credentials, your_project_id = google.auth.default(scopes=[\"https://www.googleapis.com/auth/cloud-platform\"])\n",
    "\n",
    "#getting request object\n",
    "auth_req = google.auth.transport.requests.Request()\n",
    "credentials.refresh(auth_req) #refresh token"
   ]
  },
  {
   "cell_type": "code",
   "execution_count": 5,
   "id": "36bb9743-e5b3-416a-baca-d20bc8ffdaa5",
   "metadata": {},
   "outputs": [
    {
     "name": "stdout",
     "output_type": "stream",
     "text": [
      "[]\n"
     ]
    }
   ],
   "source": [
    "#Before Triggering Cloud Run Upload Job\n",
    "registry_list = ar_query(credentials)\n",
    "print(registry_list)"
   ]
  },
  {
   "cell_type": "code",
   "execution_count": 6,
   "id": "b26cea5d-b8b5-4898-acbc-e114747a882e",
   "metadata": {},
   "outputs": [
    {
     "name": "stdout",
     "output_type": "stream",
     "text": [
      "Looking in indexes: https://asia-southeast1-python.pkg.dev/zyrun-334412/python-repo/simple\n",
      "\u001b[31mERROR: Could not find a version that satisfies the requirement Twisted (from versions: none)\u001b[0m\n",
      "\u001b[31mERROR: No matching distribution found for Twisted\u001b[0m\n"
     ]
    }
   ],
   "source": [
    "!pip3 install --index-url https://asia-southeast1-python.pkg.dev/zyrun-334412/python-repo/simple Twisted\n"
   ]
  },
  {
   "cell_type": "code",
   "execution_count": 7,
   "id": "88092e6d-c6f6-4554-9563-e6e49dfb7478",
   "metadata": {},
   "outputs": [
    {
     "name": "stdout",
     "output_type": "stream",
     "text": [
      "Collecting Twisted\n",
      "  Using cached Twisted-21.7.0-py3-none-any.whl (3.1 MB)\n",
      "Collecting constantly>=15.1\n",
      "  Using cached constantly-15.1.0-py2.py3-none-any.whl (7.9 kB)\n",
      "Collecting Automat>=0.8.0\n",
      "  Using cached Automat-20.2.0-py2.py3-none-any.whl (31 kB)\n",
      "Collecting hyperlink>=17.1.1\n",
      "  Using cached hyperlink-21.0.0-py2.py3-none-any.whl (74 kB)\n",
      "Collecting attrs>=19.2.0\n",
      "  Using cached attrs-21.2.0-py2.py3-none-any.whl (53 kB)\n",
      "Collecting zope.interface>=4.4.2\n",
      "  Using cached zope.interface-5.4.0-cp37-cp37m-manylinux2010_x86_64.whl (251 kB)\n",
      "Collecting incremental>=21.3.0\n",
      "  Using cached incremental-21.3.0-py2.py3-none-any.whl (15 kB)\n",
      "Collecting typing-extensions>=3.6.5\n",
      "  Using cached typing_extensions-4.0.1-py3-none-any.whl (22 kB)\n",
      "Collecting six\n",
      "  Using cached six-1.16.0-py2.py3-none-any.whl (11 kB)\n",
      "Collecting idna>=2.5\n",
      "  Using cached idna-3.3-py3-none-any.whl (61 kB)\n",
      "Collecting setuptools\n",
      "  Using cached setuptools-59.5.0-py3-none-any.whl (952 kB)\n",
      "Saved ./Twisted-21.7.0-py3-none-any.whl\n",
      "Saved ./attrs-21.2.0-py2.py3-none-any.whl\n",
      "Saved ./Automat-20.2.0-py2.py3-none-any.whl\n",
      "Saved ./constantly-15.1.0-py2.py3-none-any.whl\n",
      "Saved ./hyperlink-21.0.0-py2.py3-none-any.whl\n",
      "Saved ./incremental-21.3.0-py2.py3-none-any.whl\n",
      "Saved ./typing_extensions-4.0.1-py3-none-any.whl\n",
      "Saved ./zope.interface-5.4.0-cp37-cp37m-manylinux2010_x86_64.whl\n",
      "Saved ./idna-3.3-py3-none-any.whl\n",
      "Saved ./six-1.16.0-py2.py3-none-any.whl\n",
      "Saved ./setuptools-59.5.0-py3-none-any.whl\n",
      "Successfully downloaded Twisted attrs Automat constantly hyperlink incremental typing-extensions zope.interface idna six setuptools\n"
     ]
    }
   ],
   "source": [
    "!pip3 download Twisted"
   ]
  },
  {
   "cell_type": "code",
   "execution_count": 8,
   "id": "8cebce3e-8801-425b-b1ba-6f7b545f89e7",
   "metadata": {},
   "outputs": [
    {
     "name": "stdout",
     "output_type": "stream",
     "text": [
      "Copying file://Automat-20.2.0-py2.py3-none-any.whl [Content-Type=application/octet-stream]...\n",
      "Copying file://Twisted-21.7.0-py3-none-any.whl [Content-Type=application/octet-stream]...\n",
      "Copying file://attrs-21.2.0-py2.py3-none-any.whl [Content-Type=application/octet-stream]...\n",
      "Copying file://constantly-15.1.0-py2.py3-none-any.whl [Content-Type=application/octet-stream]...\n",
      "- [4 files][  3.0 MiB/  3.0 MiB]                                                \n",
      "==> NOTE: You are performing a sequence of gsutil operations that may\n",
      "run significantly faster if you instead use gsutil -m cp ... Please\n",
      "see the -m section under \"gsutil help options\" for further information\n",
      "about when gsutil -m can be advantageous.\n",
      "\n",
      "Copying file://hyperlink-21.0.0-py2.py3-none-any.whl [Content-Type=application/octet-stream]...\n",
      "Copying file://idna-3.3-py3-none-any.whl [Content-Type=application/octet-stream]...\n",
      "Copying file://incremental-21.3.0-py2.py3-none-any.whl [Content-Type=application/octet-stream]...\n",
      "Copying file://setuptools-59.5.0-py3-none-any.whl [Content-Type=application/octet-stream]...\n",
      "Copying file://six-1.16.0-py2.py3-none-any.whl [Content-Type=application/octet-stream]...\n",
      "Copying file://typing_extensions-4.0.1-py3-none-any.whl [Content-Type=application/octet-stream]...\n",
      "Copying file://zope.interface-5.4.0-cp37-cp37m-manylinux2010_x86_64.whl [Content-Type=application/octet-stream]...\n",
      "\\ [11 files][  4.4 MiB/  4.4 MiB]                                               \n",
      "Operation completed over 11 objects/4.4 MiB.                                     \n"
     ]
    }
   ],
   "source": [
    "!gsutil cp *.whl gs://python-repo-bucket"
   ]
  },
  {
   "cell_type": "code",
   "execution_count": 9,
   "id": "d4221e32-6e63-4e91-9c7d-9de3363f5133",
   "metadata": {},
   "outputs": [
    {
     "name": "stdout",
     "output_type": "stream",
     "text": [
      "['attrs-21.2.0-py2.py3-none-any.whl' 'Automat-20.2.0-py2.py3-none-any.whl'\n",
      " 'constantly-15.1.0-py2.py3-none-any.whl'\n",
      " 'hyperlink-21.0.0-py2.py3-none-any.whl' 'idna-3.3-py3-none-any.whl'\n",
      " 'incremental-21.3.0-py2.py3-none-any.whl'\n",
      " 'setuptools-59.5.0-py3-none-any.whl' 'six-1.16.0-py2.py3-none-any.whl'\n",
      " 'Twisted-21.7.0-py3-none-any.whl'\n",
      " 'typing_extensions-4.0.1-py3-none-any.whl'\n",
      " 'zope.interface-5.4.0-cp37-cp37m-manylinux2010_x86_64.whl']\n"
     ]
    }
   ],
   "source": [
    "#After Copying Files to GCS Bucket and Triggering Cloud Run Upload Job\n",
    "registry_list = ar_query(credentials)\n",
    "print(registry_list)"
   ]
  },
  {
   "cell_type": "code",
   "execution_count": 10,
   "id": "f0bba768-2112-419d-9705-1376c42055b1",
   "metadata": {},
   "outputs": [
    {
     "name": "stdout",
     "output_type": "stream",
     "text": [
      "Looking in indexes: https://asia-southeast1-python.pkg.dev/zyrun-334412/python-repo/simple\n",
      "Collecting Twisted\n",
      "  Downloading https://asia-southeast1-python.pkg.dev/zyrun-334412/python-repo/twisted/Twisted-21.7.0-py3-none-any.whl\n",
      "     | 3.1 MB 64.6 MB/s\n",
      "\u001b[?25hCollecting constantly>=15.1\n",
      "  Downloading https://asia-southeast1-python.pkg.dev/zyrun-334412/python-repo/constantly/constantly-15.1.0-py2.py3-none-any.whl (7.9 kB)\n",
      "Requirement already satisfied: attrs>=19.2.0 in /opt/conda/lib/python3.7/site-packages (from Twisted) (21.2.0)\n",
      "Collecting incremental>=21.3.0\n",
      "  Downloading https://asia-southeast1-python.pkg.dev/zyrun-334412/python-repo/incremental/incremental-21.3.0-py2.py3-none-any.whl (15 kB)\n",
      "Collecting zope.interface>=4.4.2\n",
      "  Downloading https://asia-southeast1-python.pkg.dev/zyrun-334412/python-repo/zope-interface/zope.interface-5.4.0-cp37-cp37m-manylinux2010_x86_64.whl (251 kB)\n",
      "     |████████████████████████████████| 251 kB 75.1 MB/s            \n",
      "\u001b[?25hCollecting hyperlink>=17.1.1\n",
      "  Downloading https://asia-southeast1-python.pkg.dev/zyrun-334412/python-repo/hyperlink/hyperlink-21.0.0-py2.py3-none-any.whl (74 kB)\n",
      "     |████████████████████████████████| 74 kB 5.0 MB/s             \n",
      "\u001b[?25hCollecting Automat>=0.8.0\n",
      "  Downloading https://asia-southeast1-python.pkg.dev/zyrun-334412/python-repo/automat/Automat-20.2.0-py2.py3-none-any.whl (31 kB)\n",
      "Requirement already satisfied: typing-extensions>=3.6.5 in /opt/conda/lib/python3.7/site-packages (from Twisted) (4.0.1)\n",
      "Requirement already satisfied: six in /opt/conda/lib/python3.7/site-packages (from Automat>=0.8.0->Twisted) (1.16.0)\n",
      "Requirement already satisfied: idna>=2.5 in /opt/conda/lib/python3.7/site-packages (from hyperlink>=17.1.1->Twisted) (3.1)\n",
      "Requirement already satisfied: setuptools in /opt/conda/lib/python3.7/site-packages (from zope.interface>=4.4.2->Twisted) (59.4.0)\n",
      "Installing collected packages: zope.interface, incremental, hyperlink, constantly, Automat, Twisted\n",
      "Successfully installed Automat-20.2.0 Twisted-21.7.0 constantly-15.1.0 hyperlink-21.0.0 incremental-21.3.0 zope.interface-5.4.0\n"
     ]
    }
   ],
   "source": [
    "!pip3 install --index-url https://asia-southeast1-python.pkg.dev/zyrun-334412/python-repo/simple Twisted"
   ]
  },
  {
   "cell_type": "code",
   "execution_count": null,
   "id": "d4bd00a4-ae55-4dd5-8706-00793371943a",
   "metadata": {},
   "outputs": [],
   "source": []
  }
 ],
 "metadata": {
  "environment": {
   "kernel": "python3",
   "name": "common-cpu.m87",
   "type": "gcloud",
   "uri": "gcr.io/deeplearning-platform-release/base-cpu:m87"
  },
  "kernelspec": {
   "display_name": "Python 3",
   "language": "python",
   "name": "python3"
  },
  "language_info": {
   "codemirror_mode": {
    "name": "ipython",
    "version": 3
   },
   "file_extension": ".py",
   "mimetype": "text/x-python",
   "name": "python",
   "nbconvert_exporter": "python",
   "pygments_lexer": "ipython3",
   "version": "3.7.12"
  }
 },
 "nbformat": 4,
 "nbformat_minor": 5
}
