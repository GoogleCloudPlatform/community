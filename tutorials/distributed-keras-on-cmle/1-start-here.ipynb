{
 "cells": [
  {
   "cell_type": "markdown",
   "metadata": {},
   "source": [
    "# Distributed Keras on Google Cloud Machine Learning Engine"
   ]
  },
  {
   "cell_type": "markdown",
   "metadata": {},
   "source": [
    "This solution connects the dots between a number of technologies with the end result of a production-grade model.  \n",
    "\n",
    "First the technologies:\n",
    "\n",
    "* [TensorFlow](https://www.tensorflow.org/) (including [tf.contrib.learn](https://www.tensorflow.org/get_started/tflearn)) - TensorFlow is the most popular deep learning library available.  It is functional and performant, but equally importantly, has a vibrant community of users producing educational and reference materials to accelerate your progress towards adding value to your business.\n",
    "* [Keras](https://keras.io/) - Keras is a high-level, Python API focused on enabling fast experimentation, with the motivation that moving from idea to result with the least possible delay is the key to good research (and machine learning in general).  It is being integrated into TensorFlow (currently as tf.contrib.keras) but is also available standalone and can run on TensorFlow, CNTK or Theano.\n",
    "* [Google Cloud Machine Learning Engine (CMLE)](https://cloud.google.com/ml-engine/) - CMLE is a managed service that enables you to easily build machine learning models that work on any type of data, of any size.  It facilitates two activities: One, decreasing training time by allowing you train models using large numbers of CPUs, GPUs and TPUs, and two, \n",
    "allowing you to train models in parallel.  Both of these activities further enable you to iterate faster with less overhead.\n",
    "\n",
    "Next the activities:\n",
    "\n",
    "* [You'll learn (or revise) creating custom estimators in tf.contrib.learn](2-original-neural-net.ipynb) from [this tutorial](https://www.tensorflow.org/extend/estimators) by running the [original code](https://github.com/tensorflow/tensorflow/blob/r1.2/tensorflow/examples/tutorials/estimators/abalone.py).\n",
    "* [You'll run a barebones version of the same model that will serve as a basis for migrating the model to Keras](3-tweaked-original-neural-net.ipynb).\n",
    "* [You'll run a version of the same model implemented using Keras](4-keras.ipynb) for the dataflow graph definition and tf.contrib.learn for other functionality such as the loss function and utilites such as the training/evaluation loop.\n",
    "* [You'll run a production-grade version of the Keras model locally](5-keras-full.ipynb) that adds in the code required to train the model on CMLE.\n",
    "* [You'll use CMLE via the gcloud CLI to execute the same model locally and remotely](6-distributed-keras.ipynb) on Google Cloud Platform (GCP).\n",
    "\n",
    "The remainder of this notebook includes a number of housekeeping items required to run later notebooks (upgrading Tensorflow to 1.2 and downloading training/test datasets).\n",
    "\n",
    "Run this notebook in its entirety, then proceed to the [next notebook](2-original-neural-net.ipynb)."
   ]
  },
  {
   "cell_type": "code",
   "execution_count": 1,
   "metadata": {
    "collapsed": false
   },
   "outputs": [
    {
     "name": "stdout",
     "output_type": "stream",
     "text": [
      "Name: tensorflow\r\n",
      "Version: 1.2.1\r\n",
      "Summary: TensorFlow helps the tensors flow\r\n",
      "Home-page: http://tensorflow.org/\r\n",
      "Author: Google Inc.\r\n",
      "Author-email: opensource@google.com\r\n",
      "License: Apache 2.0\r\n",
      "Location: /usr/local/lib/python2.7/dist-packages\r\n",
      "Requires: werkzeug, markdown, six, html5lib, protobuf, backports.weakref, wheel, numpy, mock, bleach\r\n"
     ]
    }
   ],
   "source": [
    "!pip show tensorflow"
   ]
  },
  {
   "cell_type": "code",
   "execution_count": 2,
   "metadata": {
    "collapsed": false
   },
   "outputs": [
    {
     "name": "stdout",
     "output_type": "stream",
     "text": [
      "Collecting tensorflow\n",
      "  Downloading tensorflow-1.3.0-cp27-cp27mu-manylinux1_x86_64.whl (43.1MB)\n",
      "\u001b[K    100% |################################| 43.1MB 23kB/s \n",
      "\u001b[?25hCollecting protobuf>=3.3.0 (from tensorflow)\n",
      "  Downloading protobuf-3.4.0-cp27-cp27mu-manylinux1_x86_64.whl (6.2MB)\n",
      "\u001b[K    100% |################################| 6.2MB 169kB/s \n",
      "\u001b[?25hRequirement already up-to-date: six>=1.10.0 in /usr/local/lib/python2.7/dist-packages (from tensorflow)\n",
      "Requirement already up-to-date: wheel in /usr/local/lib/python2.7/dist-packages (from tensorflow)\n",
      "Requirement already up-to-date: backports.weakref>=1.0rc1 in /usr/local/lib/python2.7/dist-packages (from tensorflow)\n",
      "Requirement already up-to-date: numpy>=1.11.0 in /usr/local/lib/python2.7/dist-packages (from tensorflow)\n",
      "Requirement already up-to-date: mock>=2.0.0 in /usr/local/lib/python2.7/dist-packages (from tensorflow)\n",
      "Collecting tensorflow-tensorboard<0.2.0,>=0.1.0 (from tensorflow)\n",
      "  Downloading tensorflow_tensorboard-0.1.4-py2-none-any.whl (2.2MB)\n",
      "\u001b[K    100% |################################| 2.2MB 570kB/s \n",
      "\u001b[?25hRequirement already up-to-date: setuptools in /usr/local/lib/python2.7/dist-packages (from protobuf>=3.3.0->tensorflow)\n",
      "Requirement already up-to-date: funcsigs>=1; python_version < \"3.3\" in /usr/local/lib/python2.7/dist-packages (from mock>=2.0.0->tensorflow)\n",
      "Requirement already up-to-date: pbr>=0.11 in /usr/local/lib/python2.7/dist-packages (from mock>=2.0.0->tensorflow)\n",
      "Requirement already up-to-date: werkzeug>=0.11.10 in /usr/local/lib/python2.7/dist-packages (from tensorflow-tensorboard<0.2.0,>=0.1.0->tensorflow)\n",
      "Collecting markdown>=2.6.8 (from tensorflow-tensorboard<0.2.0,>=0.1.0->tensorflow)\n",
      "  Downloading Markdown-2.6.9.tar.gz (271kB)\n",
      "\u001b[K    100% |################################| 276kB 4.7MB/s \n",
      "\u001b[?25hRequirement already up-to-date: html5lib==0.9999999 in /usr/local/lib/python2.7/dist-packages (from tensorflow-tensorboard<0.2.0,>=0.1.0->tensorflow)\n",
      "Requirement already up-to-date: bleach==1.5.0 in /usr/local/lib/python2.7/dist-packages (from tensorflow-tensorboard<0.2.0,>=0.1.0->tensorflow)\n",
      "Building wheels for collected packages: markdown\n",
      "  Running setup.py bdist_wheel for markdown ... \u001b[?25l-\b \b\\\b \b|\b \b/\b \b-\b \b\\\b \bdone\n",
      "\u001b[?25h  Stored in directory: /root/.cache/pip/wheels/bf/46/10/c93e17ae86ae3b3a919c7b39dad3b5ccf09aeb066419e5c1e5\n",
      "Successfully built markdown\n",
      "Installing collected packages: protobuf, markdown, tensorflow-tensorboard, tensorflow\n",
      "  Found existing installation: protobuf 3.3.0\n",
      "    Uninstalling protobuf-3.3.0:\n",
      "      Successfully uninstalled protobuf-3.3.0\n",
      "  Found existing installation: Markdown 2.6.8\n",
      "    Uninstalling Markdown-2.6.8:\n",
      "      Successfully uninstalled Markdown-2.6.8\n",
      "  Found existing installation: tensorflow 1.2.1\n",
      "    Uninstalling tensorflow-1.2.1:\n",
      "      Successfully uninstalled tensorflow-1.2.1\n",
      "Successfully installed markdown-2.6.9 protobuf-3.4.0 tensorflow-1.3.0 tensorflow-tensorboard-0.1.4\n"
     ]
    }
   ],
   "source": [
    "!pip install --upgrade tensorflow"
   ]
  },
  {
   "cell_type": "code",
   "execution_count": 3,
   "metadata": {
    "collapsed": false
   },
   "outputs": [
    {
     "name": "stdout",
     "output_type": "stream",
     "text": [
      "Name: tensorflow\r\n",
      "Version: 1.3.0\r\n",
      "Summary: TensorFlow helps the tensors flow\r\n",
      "Home-page: http://tensorflow.org/\r\n",
      "Author: Google Inc.\r\n",
      "Author-email: opensource@google.com\r\n",
      "License: Apache 2.0\r\n",
      "Location: /usr/local/lib/python2.7/dist-packages\r\n",
      "Requires: protobuf, six, wheel, backports.weakref, numpy, mock, tensorflow-tensorboard\r\n"
     ]
    }
   ],
   "source": [
    "!pip show tensorflow"
   ]
  },
  {
   "cell_type": "markdown",
   "metadata": {},
   "source": [
    "Next we download the training and test datasets."
   ]
  },
  {
   "cell_type": "code",
   "execution_count": 4,
   "metadata": {
    "collapsed": false
   },
   "outputs": [
    {
     "name": "stdout",
     "output_type": "stream",
     "text": [
      "\n",
      "\n",
      "Updates are available for some Cloud SDK components.  To install them,\n",
      "please run:\n",
      "  $ gcloud components update\n",
      "\n",
      "Copying gs://smiling-beaming-abalone/abalone_test.csv...\n",
      "Copying gs://smiling-beaming-abalone/abalone_train.csv...\n",
      "- [2 files][178.9 KiB/178.9 KiB]                                                \n",
      "Operation completed over 2 objects/178.9 KiB.                                    \n"
     ]
    }
   ],
   "source": [
    "!gsutil cp gs://smiling-beaming-abalone/*.csv ."
   ]
  },
  {
   "cell_type": "code",
   "execution_count": 5,
   "metadata": {
    "collapsed": false
   },
   "outputs": [
    {
     "name": "stdout",
     "output_type": "stream",
     "text": [
      "abalone_test.csv\r\n",
      "abalone_train.csv\r\n"
     ]
    }
   ],
   "source": [
    "!ls -1 *.csv"
   ]
  }
 ],
 "metadata": {
  "kernelspec": {
   "display_name": "Python 2",
   "language": "python",
   "name": "python2"
  },
  "language_info": {
   "codemirror_mode": {
    "name": "ipython",
    "version": 2
   },
   "file_extension": ".py",
   "mimetype": "text/x-python",
   "name": "python",
   "nbconvert_exporter": "python",
   "pygments_lexer": "ipython2",
   "version": "2.7.9"
  }
 },
 "nbformat": 4,
 "nbformat_minor": 2
}
