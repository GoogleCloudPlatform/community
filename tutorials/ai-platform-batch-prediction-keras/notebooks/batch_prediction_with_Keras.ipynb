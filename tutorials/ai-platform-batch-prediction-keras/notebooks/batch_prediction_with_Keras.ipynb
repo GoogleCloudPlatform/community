{
 "cells": [
  {
   "cell_type": "markdown",
   "metadata": {},
   "source": [
    "# Using batch prediction feature with Keras models on Cloud AI Platform"
   ]
  },
  {
   "cell_type": "markdown",
   "metadata": {},
   "source": [
    "**Note: use \"TensorFlow Enterprise 2.3\" instance to run this notebook.**"
   ]
  },
  {
   "cell_type": "markdown",
   "metadata": {},
   "source": [
    "Define environment variables and create a strage bucket."
   ]
  },
  {
   "cell_type": "code",
   "execution_count": 1,
   "metadata": {},
   "outputs": [],
   "source": [
    "# change these to try this notebook out\n",
    "BUCKET = 'your-project'\n",
    "PROJECT = 'your-project'\n",
    "REGION = 'us-central1'"
   ]
  },
  {
   "cell_type": "code",
   "execution_count": 2,
   "metadata": {},
   "outputs": [],
   "source": [
    "import os\n",
    "os.environ['BUCKET'] = BUCKET\n",
    "os.environ['PROJECT'] = PROJECT\n",
    "os.environ['REGION'] = REGION"
   ]
  },
  {
   "cell_type": "code",
   "execution_count": 3,
   "metadata": {},
   "outputs": [],
   "source": [
    "%%bash\n",
    "if ! gsutil ls | grep -q gs://${BUCKET}/; then\n",
    "    gsutil mb -l ${REGION} gs://${BUCKET}\n",
    "fi"
   ]
  },
  {
   "cell_type": "markdown",
   "metadata": {},
   "source": [
    "Import modules and prepare training data. (You use the Titaic data as a simple example.)"
   ]
  },
  {
   "cell_type": "code",
   "execution_count": 4,
   "metadata": {},
   "outputs": [],
   "source": [
    "import numpy as np\n",
    "import pandas as pd\n",
    "from pandas import DataFrame\n",
    "import matplotlib.pyplot as plt\n",
    "\n",
    "import tensorflow as tf\n",
    "from tensorflow.keras import layers, models"
   ]
  },
  {
   "cell_type": "code",
   "execution_count": 5,
   "metadata": {},
   "outputs": [],
   "source": [
    "data = pd.read_csv('https://raw.githubusercontent.com/enakai00/numpy-pandas-tutorial/master/titanic.csv')\n",
    "data['pclass'] = data['pclass'].astype(str)"
   ]
  },
  {
   "cell_type": "code",
   "execution_count": 6,
   "metadata": {},
   "outputs": [
    {
     "data": {
      "text/html": [
       "<div>\n",
       "<style scoped>\n",
       "    .dataframe tbody tr th:only-of-type {\n",
       "        vertical-align: middle;\n",
       "    }\n",
       "\n",
       "    .dataframe tbody tr th {\n",
       "        vertical-align: top;\n",
       "    }\n",
       "\n",
       "    .dataframe thead th {\n",
       "        text-align: right;\n",
       "    }\n",
       "</style>\n",
       "<table border=\"1\" class=\"dataframe\">\n",
       "  <thead>\n",
       "    <tr style=\"text-align: right;\">\n",
       "      <th></th>\n",
       "      <th>age</th>\n",
       "      <th>fare</th>\n",
       "      <th>sex_female</th>\n",
       "      <th>sex_male</th>\n",
       "      <th>pclass_1</th>\n",
       "      <th>pclass_2</th>\n",
       "      <th>pclass_3</th>\n",
       "    </tr>\n",
       "  </thead>\n",
       "  <tbody>\n",
       "    <tr>\n",
       "      <th>0</th>\n",
       "      <td>29.00</td>\n",
       "      <td>211.3375</td>\n",
       "      <td>1</td>\n",
       "      <td>0</td>\n",
       "      <td>1</td>\n",
       "      <td>0</td>\n",
       "      <td>0</td>\n",
       "    </tr>\n",
       "    <tr>\n",
       "      <th>1</th>\n",
       "      <td>0.92</td>\n",
       "      <td>151.5500</td>\n",
       "      <td>0</td>\n",
       "      <td>1</td>\n",
       "      <td>1</td>\n",
       "      <td>0</td>\n",
       "      <td>0</td>\n",
       "    </tr>\n",
       "    <tr>\n",
       "      <th>2</th>\n",
       "      <td>2.00</td>\n",
       "      <td>151.5500</td>\n",
       "      <td>1</td>\n",
       "      <td>0</td>\n",
       "      <td>1</td>\n",
       "      <td>0</td>\n",
       "      <td>0</td>\n",
       "    </tr>\n",
       "    <tr>\n",
       "      <th>3</th>\n",
       "      <td>30.00</td>\n",
       "      <td>151.5500</td>\n",
       "      <td>0</td>\n",
       "      <td>1</td>\n",
       "      <td>1</td>\n",
       "      <td>0</td>\n",
       "      <td>0</td>\n",
       "    </tr>\n",
       "    <tr>\n",
       "      <th>4</th>\n",
       "      <td>25.00</td>\n",
       "      <td>151.5500</td>\n",
       "      <td>1</td>\n",
       "      <td>0</td>\n",
       "      <td>1</td>\n",
       "      <td>0</td>\n",
       "      <td>0</td>\n",
       "    </tr>\n",
       "  </tbody>\n",
       "</table>\n",
       "</div>"
      ],
      "text/plain": [
       "     age      fare  sex_female  sex_male  pclass_1  pclass_2  pclass_3\n",
       "0  29.00  211.3375           1         0         1         0         0\n",
       "1   0.92  151.5500           0         1         1         0         0\n",
       "2   2.00  151.5500           1         0         1         0         0\n",
       "3  30.00  151.5500           0         1         1         0         0\n",
       "4  25.00  151.5500           1         0         1         0         0"
      ]
     },
     "execution_count": 6,
     "metadata": {},
     "output_type": "execute_result"
    }
   ],
   "source": [
    "tmp = data[['age', 'sex', 'fare', 'pclass', 'survived']].dropna()\n",
    "X_ = tmp[['age', 'sex', 'fare', 'pclass']]\n",
    "y = tmp['survived']\n",
    "X = pd.get_dummies(X_)\n",
    "X.head()"
   ]
  },
  {
   "cell_type": "code",
   "execution_count": 7,
   "metadata": {},
   "outputs": [],
   "source": [
    "from sklearn.model_selection import train_test_split\n",
    "X_train, X_val, y_train, y_val = train_test_split(X, y, train_size=0.8, random_state=1)"
   ]
  },
  {
   "cell_type": "markdown",
   "metadata": {},
   "source": [
    "Create a model to predict the 'survival probablity' and train it."
   ]
  },
  {
   "cell_type": "code",
   "execution_count": 8,
   "metadata": {},
   "outputs": [
    {
     "name": "stdout",
     "output_type": "stream",
     "text": [
      "Model: \"sequential\"\n",
      "_________________________________________________________________\n",
      "Layer (type)                 Output Shape              Param #   \n",
      "=================================================================\n",
      "hidden (Dense)               (None, 8)                 64        \n",
      "_________________________________________________________________\n",
      "output (Dense)               (None, 1)                 9         \n",
      "=================================================================\n",
      "Total params: 73\n",
      "Trainable params: 73\n",
      "Non-trainable params: 0\n",
      "_________________________________________________________________\n"
     ]
    }
   ],
   "source": [
    "model = models.Sequential()\n",
    "model.add(layers.Input(shape=(7,), name='features'))\n",
    "model.add(layers.Dense(8, activation='relu', name='hidden'))\n",
    "model.add(layers.Dense(1, activation='sigmoid', name='output'))\n",
    "model.summary()"
   ]
  },
  {
   "cell_type": "code",
   "execution_count": 9,
   "metadata": {},
   "outputs": [],
   "source": [
    "model.compile(optimizer='adam',\n",
    "              loss='binary_crossentropy',\n",
    "              metrics=['acc'])"
   ]
  },
  {
   "cell_type": "code",
   "execution_count": 10,
   "metadata": {},
   "outputs": [],
   "source": [
    "history = model.fit(\n",
    "    X_train, y_train, validation_data=(X_val, y_val),\n",
    "    batch_size=64, epochs=50, verbose=0)"
   ]
  },
  {
   "cell_type": "code",
   "execution_count": 11,
   "metadata": {},
   "outputs": [
    {
     "data": {
      "text/plain": [
       "<AxesSubplot:>"
      ]
     },
     "execution_count": 11,
     "metadata": {},
     "output_type": "execute_result"
    },
    {
     "data": {
      "image/png": "[encoded data removed]",
      "text/plain": [
       "<Figure size 432x288 with 1 Axes>"
      ]
     },
     "metadata": {
      "needs_background": "light"
     },
     "output_type": "display_data"
    },
    {
     "data": {
      "image/png": "[encoded data removed]",
      "text/plain": [
       "<Figure size 432x288 with 1 Axes>"
      ]
     },
     "metadata": {
      "needs_background": "light"
     },
     "output_type": "display_data"
    }
   ],
   "source": [
    "DataFrame({'acc': history.history['acc'], \n",
    "           'val_acc': history.history['val_acc']}).plot()\n",
    "DataFrame({'loss': history.history['loss'], \n",
    "           'val_loss': history.history['val_loss']}).plot()"
   ]
  },
  {
   "cell_type": "markdown",
   "metadata": {},
   "source": [
    "Create a wrapper model so that you can add an identifier key to each example."
   ]
  },
  {
   "cell_type": "code",
   "execution_count": 12,
   "metadata": {},
   "outputs": [
    {
     "name": "stdout",
     "output_type": "stream",
     "text": [
      "Model: \"functional_1\"\n",
      "__________________________________________________________________________________________________\n",
      "Layer (type)                    Output Shape         Param #     Connected to                     \n",
      "==================================================================================================\n",
      "features (InputLayer)           [(None, 7)]          0                                            \n",
      "__________________________________________________________________________________________________\n",
      "key (InputLayer)                [(None,)]            0                                            \n",
      "__________________________________________________________________________________________________\n",
      "hidden (Dense)                  (None, 8)            64          features[0][0]                   \n",
      "__________________________________________________________________________________________________\n",
      "reshape (Reshape)               (None, 1)            0           key[0][0]                        \n",
      "__________________________________________________________________________________________________\n",
      "output (Dense)                  (None, 1)            9           hidden[0][0]                     \n",
      "__________________________________________________________________________________________________\n",
      "tf_op_layer_Cast (TensorFlowOpL [(None, 1)]          0           reshape[0][0]                    \n",
      "__________________________________________________________________________________________________\n",
      "survival_with_key (Concatenate) (None, 2)            0           output[0][0]                     \n",
      "                                                                 tf_op_layer_Cast[0][0]           \n",
      "==================================================================================================\n",
      "Total params: 73\n",
      "Trainable params: 73\n",
      "Non-trainable params: 0\n",
      "__________________________________________________________________________________________________\n"
     ]
    }
   ],
   "source": [
    "key = layers.Input(shape=(), name='key', dtype='int32')\n",
    "pred = layers.Concatenate(name='survival_with_key')(\n",
    "    [model.output, tf.cast(layers.Reshape((1,))(key), tf.float32)])\n",
    "wrapper_model = models.Model(inputs=[model.input, key], outputs=pred)\n",
    "wrapper_model.compile()\n",
    "wrapper_model.summary()"
   ]
  },
  {
   "cell_type": "code",
   "execution_count": 13,
   "metadata": {},
   "outputs": [
    {
     "data": {
      "image/png": "[encoded data removed]",
      "text/plain": [
       "<IPython.core.display.Image object>"
      ]
     },
     "execution_count": 13,
     "metadata": {},
     "output_type": "execute_result"
    }
   ],
   "source": [
    "tf.keras.utils.plot_model(\n",
    "    model=wrapper_model, to_file=\"dnn_model.png\", show_shapes=False, rankdir=\"LR\")"
   ]
  },
  {
   "cell_type": "markdown",
   "metadata": {},
   "source": [
    "Use the predict method of the wrapper model."
   ]
  },
  {
   "cell_type": "code",
   "execution_count": 14,
   "metadata": {},
   "outputs": [
    {
     "data": {
      "text/plain": [
       "array([[0.10660857, 0.        ],\n",
       "       [0.75624144, 1.        ],\n",
       "       [0.7078464 , 2.        ],\n",
       "       [0.2532444 , 3.        ],\n",
       "       [0.66858226, 4.        ],\n",
       "       [0.32018137, 5.        ],\n",
       "       [0.8663204 , 6.        ],\n",
       "       [0.2742654 , 7.        ],\n",
       "       [0.6511928 , 8.        ],\n",
       "       [0.71124303, 9.        ]], dtype=float32)"
      ]
     },
     "execution_count": 14,
     "metadata": {},
     "output_type": "execute_result"
    }
   ],
   "source": [
    "wrapper_model.predict([X_val[:10], tf.constant(range(10))])"
   ]
  },
  {
   "cell_type": "markdown",
   "metadata": {},
   "source": [
    "Export the wrapper model in the saved_model format."
   ]
  },
  {
   "cell_type": "code",
   "execution_count": 15,
   "metadata": {},
   "outputs": [
    {
     "name": "stdout",
     "output_type": "stream",
     "text": [
      "WARNING:tensorflow:From /opt/conda/lib/python3.7/site-packages/tensorflow/python/training/tracking/tracking.py:111: Model.state_updates (from tensorflow.python.keras.engine.training) is deprecated and will be removed in a future version.\n",
      "Instructions for updating:\n",
      "This property should not be used in TensorFlow 2.0, as updates are applied automatically.\n",
      "WARNING:tensorflow:From /opt/conda/lib/python3.7/site-packages/tensorflow/python/training/tracking/tracking.py:111: Layer.updates (from tensorflow.python.keras.engine.base_layer) is deprecated and will be removed in a future version.\n",
      "Instructions for updating:\n",
      "This property should not be used in TensorFlow 2.0, as updates are applied automatically.\n",
      "INFO:tensorflow:Assets written to: ./export/assets\n"
     ]
    }
   ],
   "source": [
    "export_path = \"./export\"\n",
    "wrapper_model.save(export_path, save_format='tf')"
   ]
  },
  {
   "cell_type": "code",
   "execution_count": 16,
   "metadata": {},
   "outputs": [
    {
     "name": "stdout",
     "output_type": "stream",
     "text": [
      "The given SavedModel SignatureDef contains the following input(s):\n",
      "  inputs['features'] tensor_info:\n",
      "      dtype: DT_FLOAT\n",
      "      shape: (-1, 7)\n",
      "      name: serving_default_features:0\n",
      "  inputs['key'] tensor_info:\n",
      "      dtype: DT_INT32\n",
      "      shape: (-1)\n",
      "      name: serving_default_key:0\n",
      "The given SavedModel SignatureDef contains the following output(s):\n",
      "  outputs['survival_with_key'] tensor_info:\n",
      "      dtype: DT_FLOAT\n",
      "      shape: (-1, 2)\n",
      "      name: StatefulPartitionedCall:0\n",
      "Method name is: tensorflow/serving/predict\n"
     ]
    }
   ],
   "source": [
    "%%bash\n",
    "saved_model_cli show --dir \"./export\" --tag_set serve --signature_def serving_default"
   ]
  },
  {
   "cell_type": "markdown",
   "metadata": {},
   "source": [
    "Make local predictions with the exported model."
   ]
  },
  {
   "cell_type": "code",
   "execution_count": 17,
   "metadata": {},
   "outputs": [
    {
     "data": {
      "text/plain": [
       "{'survival_with_key': <tf.Tensor: shape=(10, 2), dtype=float32, numpy=\n",
       " array([[0.10660857, 0.        ],\n",
       "        [0.75624144, 1.        ],\n",
       "        [0.7078464 , 2.        ],\n",
       "        [0.2532444 , 3.        ],\n",
       "        [0.66858226, 4.        ],\n",
       "        [0.32018137, 5.        ],\n",
       "        [0.8663204 , 6.        ],\n",
       "        [0.2742654 , 7.        ],\n",
       "        [0.6511928 , 8.        ],\n",
       "        [0.71124303, 9.        ]], dtype=float32)>}"
      ]
     },
     "execution_count": 17,
     "metadata": {},
     "output_type": "execute_result"
    }
   ],
   "source": [
    "serving_fn = models.load_model(export_path).signatures['serving_default']\n",
    "serving_fn(features=tf.constant(X_val[:10].values.tolist()), key=tf.constant(range(10)))"
   ]
  },
  {
   "cell_type": "markdown",
   "metadata": {},
   "source": [
    "Deploy the exported model to AI Platform.\n",
    "\n",
    "**Note**: the latest runtime that supports batch prediction is 2.1\n",
    "\n",
    "https://cloud.google.com/ai-platform/training/docs/runtime-version-list"
   ]
  },
  {
   "cell_type": "code",
   "execution_count": 18,
   "metadata": {},
   "outputs": [
    {
     "name": "stderr",
     "output_type": "stream",
     "text": [
      "Using endpoint [https://ml.googleapis.com/]\n",
      "Created ml engine model [projects/your-project/models/titanic].\n",
      "Using endpoint [https://ml.googleapis.com/]\n",
      "Creating version (this might take a few minutes)......\n",
      "................................................................................................................................................................................................................................................................................................................................................................................................................................................................................................................................................................................................................................done.\n"
     ]
    }
   ],
   "source": [
    "%%bash\n",
    "MODEL_NAME=\"titanic\"\n",
    "MODEL_VERSION=\"v1\"\n",
    "MODEL_LOCATION=\"./export\"\n",
    "gcloud ai-platform models create ${MODEL_NAME} --regions $REGION\n",
    "gcloud ai-platform versions create ${MODEL_VERSION} --model ${MODEL_NAME} \\\n",
    "  --origin ${MODEL_LOCATION} --runtime-version 2.1 \\\n",
    "  --staging-bucket gs://$BUCKET --region global"
   ]
  },
  {
   "cell_type": "markdown",
   "metadata": {},
   "source": [
    "Make online predictions with the deployed model."
   ]
  },
  {
   "cell_type": "code",
   "execution_count": 19,
   "metadata": {},
   "outputs": [
    {
     "name": "stdout",
     "output_type": "stream",
     "text": [
      "{\n",
      "    \"predictions\": [\n",
      "        {\n",
      "            \"survival_with_key\": [\n",
      "                0.10660852491855621,\n",
      "                0.0\n",
      "            ]\n",
      "        },\n",
      "        {\n",
      "            \"survival_with_key\": [\n",
      "                0.7562407851219177,\n",
      "                1.0\n",
      "            ]\n",
      "        }\n",
      "    ]\n",
      "}\n"
     ]
    }
   ],
   "source": [
    "from googleapiclient import discovery\n",
    "from oauth2client.client import GoogleCredentials\n",
    "import json\n",
    "\n",
    "credentials = GoogleCredentials.get_application_default()\n",
    "api = discovery.build('ml', 'v1', credentials=credentials, cache_discovery=False)\n",
    "\n",
    "request_data =  {'instances':\n",
    "  [\n",
    "    {\"features\": [47.0, 14.5, 1.0, 0.0, 0.0, 0.0, 1.0], \"key\": 0},\n",
    "    {\"features\": [38.0, 227.525, 1.0, 0.0, 1.0, 0.0, 0.0], \"key\": 1},\n",
    "  ]\n",
    "}\n",
    "\n",
    "parent = 'projects/%s/models/%s/versions/%s' % (PROJECT, 'titanic', 'v1')\n",
    "response = api.projects().predict(body=request_data, name=parent).execute()\n",
    "print(json.dumps(response, sort_keys = True, indent = 4))"
   ]
  },
  {
   "cell_type": "markdown",
   "metadata": {},
   "source": [
    "Create an input file and execute a batch prediction job."
   ]
  },
  {
   "cell_type": "code",
   "execution_count": 20,
   "metadata": {},
   "outputs": [],
   "source": [
    "with open('./input.json', 'w') as f:\n",
    "  for features, key in zip(X_val[:10].values.tolist(), np.arange(10).tolist()):\n",
    "    print(json.dumps({'features': features, 'key':key}), file=f)"
   ]
  },
  {
   "cell_type": "code",
   "execution_count": 21,
   "metadata": {},
   "outputs": [
    {
     "name": "stdout",
     "output_type": "stream",
     "text": [
      "{\"features\": [47.0, 14.5, 1.0, 0.0, 0.0, 0.0, 1.0], \"key\": 0}\n",
      "{\"features\": [38.0, 227.525, 1.0, 0.0, 1.0, 0.0, 0.0], \"key\": 1}\n",
      "{\"features\": [24.0, 83.1583, 1.0, 0.0, 1.0, 0.0, 0.0], \"key\": 2}\n",
      "{\"features\": [19.0, 8.05, 0.0, 1.0, 0.0, 0.0, 1.0], \"key\": 3}\n",
      "{\"features\": [34.0, 23.0, 1.0, 0.0, 0.0, 1.0, 0.0], \"key\": 4}\n",
      "{\"features\": [23.0, 11.5, 0.0, 1.0, 0.0, 1.0, 0.0], \"key\": 5}\n",
      "{\"features\": [24.0, 263.0, 1.0, 0.0, 1.0, 0.0, 0.0], \"key\": 6}\n",
      "{\"features\": [17.0, 7.2292, 0.0, 1.0, 0.0, 0.0, 1.0], \"key\": 7}\n",
      "{\"features\": [41.0, 39.6875, 1.0, 0.0, 0.0, 0.0, 1.0], \"key\": 8}\n",
      "{\"features\": [17.0, 16.1, 1.0, 0.0, 0.0, 0.0, 1.0], \"key\": 9}\n"
     ]
    },
    {
     "name": "stderr",
     "output_type": "stream",
     "text": [
      "Copying file://./input.json [Content-Type=application/json]...\n",
      "/ [1 files][  632.0 B/  632.0 B]                                                \n",
      "Operation completed over 1 objects/632.0 B.                                      \n"
     ]
    }
   ],
   "source": [
    "%%bash\n",
    "gsutil cp ./input.json gs://$BUCKET/input/input.json\n",
    "gsutil cat gs://$BUCKET/input/input.json"
   ]
  },
  {
   "cell_type": "code",
   "execution_count": 22,
   "metadata": {},
   "outputs": [
    {
     "name": "stdout",
     "output_type": "stream",
     "text": [
      "jobId: batch_pred_20201225220232\n",
      "state: QUEUED\n"
     ]
    },
    {
     "name": "stderr",
     "output_type": "stream",
     "text": [
      "Job [batch_pred_20201225220232] submitted successfully.\n",
      "Your job is still active. You may view the status of your job with the command\n",
      "\n",
      "  $ gcloud ai-platform jobs describe batch_pred_20201225220232\n",
      "\n",
      "or continue streaming the logs with the command\n",
      "\n",
      "  $ gcloud ai-platform jobs stream-logs batch_pred_20201225220232\n"
     ]
    }
   ],
   "source": [
    "%%bash\n",
    "MODEL_NAME=\"titanic\"\n",
    "MODEL_VERSION=\"v1\"\n",
    "JOB_NAME=\"batch_pred_$(date +'%Y%m%d%H%M%S')\"\n",
    "INPUT_PATHS=\"gs://$BUCKET/input/*\"\n",
    "OUTPUT_PATH=\"gs://$BUCKET/output\"\n",
    "DATA_FORMAT=\"text\" # JSON data format\n",
    "gcloud ai-platform jobs submit prediction $JOB_NAME \\\n",
    "    --model $MODEL_NAME \\\n",
    "    --input-paths $INPUT_PATHS \\\n",
    "    --output-path $OUTPUT_PATH \\\n",
    "    --region $REGION \\\n",
    "    --data-format $DATA_FORMAT"
   ]
  },
  {
   "cell_type": "code",
   "execution_count": 23,
   "metadata": {},
   "outputs": [
    {
     "name": "stdout",
     "output_type": "stream",
     "text": [
      "{\"survival_with_key\": [0.10660852491855621, 0.0]}\n",
      "{\"survival_with_key\": [0.7562407851219177, 1.0]}\n",
      "{\"survival_with_key\": [0.7078465819358826, 2.0]}\n",
      "{\"survival_with_key\": [0.2532443404197693, 3.0]}\n",
      "{\"survival_with_key\": [0.6685822606086731, 4.0]}\n",
      "{\"survival_with_key\": [0.32018136978149414, 5.0]}\n",
      "{\"survival_with_key\": [0.8663203716278076, 6.0]}\n",
      "{\"survival_with_key\": [0.2742654085159302, 7.0]}\n",
      "{\"survival_with_key\": [0.6511927843093872, 8.0]}\n",
      "{\"survival_with_key\": [0.7112430334091187, 9.0]}\n"
     ]
    }
   ],
   "source": [
    "!gsutil cat gs://$BUCKET/output/prediction.results*"
   ]
  }
 ],
 "metadata": {
  "environment": {
   "name": "tf2-2-3-gpu.2-3.m59",
   "type": "gcloud",
   "uri": "gcr.io/deeplearning-platform-release/tf2-2-3-gpu.2-3:m59"
  },
  "kernelspec": {
   "display_name": "Python 3",
   "language": "python",
   "name": "python3"
  },
  "language_info": {
   "codemirror_mode": {
    "name": "ipython",
    "version": 3
   },
   "file_extension": ".py",
   "mimetype": "text/x-python",
   "name": "python",
   "nbconvert_exporter": "python",
   "pygments_lexer": "ipython3",
   "version": "3.7.8"
  }
 },
 "nbformat": 4,
 "nbformat_minor": 4
}
