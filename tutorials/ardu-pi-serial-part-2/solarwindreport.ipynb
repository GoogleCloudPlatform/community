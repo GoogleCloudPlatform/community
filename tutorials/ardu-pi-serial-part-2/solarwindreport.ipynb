{
 "cells": [
  {
   "cell_type": "markdown",
   "metadata": {},
   "source": [
    "# Install Packages"
   ]
  },
  {
   "cell_type": "code",
   "execution_count": null,
   "metadata": {},
   "outputs": [],
   "source": [
    "!pip install --upgrade google-cloud-bigquery[pandas]"
   ]
  },
  {
   "cell_type": "markdown",
   "metadata": {},
   "source": [
    "# Connect to Google BigQuery"
   ]
  },
  {
   "cell_type": "code",
   "execution_count": null,
   "metadata": {},
   "outputs": [],
   "source": [
    "from google.cloud import bigquery\n",
    "\n",
    "# Set the parameters below\n",
    "project = \"<my-project>\"\n",
    "location = \"<my-location>\"\n",
    "\n",
    "dataset_name = \"<my-bq-dataset>\"\n",
    "raw_table_name = \"<my-raw-table>\"\n",
    "avg_table_name = \"<my-average-table>\"\n",
    "\n",
    "# Set the device clientid to be visualized \n",
    "client_name = \"<my-client-id>\"\n",
    "\n",
    "# Create client connection\n",
    "client = bigquery.Client(project=project)\n",
    "# Fetch the table objects\n",
    "raw_table_ref = client.dataset(dataset_name).table(raw_table_name)\n",
    "avg_table_ref = client.dataset(dataset_name).table(avg_table_name)\n",
    "\n",
    "raw_table = client.get_table(raw_table_ref)\n",
    "avg_table = client.get_table(avg_table_ref)\n",
    "tables = [raw_table, avg_table]"
   ]
  },
  {
   "cell_type": "markdown",
   "metadata": {},
   "source": [
    "# View table schema"
   ]
  },
  {
   "cell_type": "code",
   "execution_count": null,
   "metadata": {},
   "outputs": [],
   "source": [
    "from IPython.display import HTML, display\n",
    "import tabulate\n",
    "\n",
    "# Display the table schemas as tables\n",
    "for table in tables:\n",
    "    print(\"\\nTable: {:15}   {} rows\".format(table.table_id, table.num_rows))\n",
    "    tab = []\n",
    "    for schema in table.schema:\n",
    "        row = [schema.name, schema.field_type]\n",
    "        tab.append(row)\n",
    "        \n",
    "    display(HTML(tabulate.tabulate(tab, tablefmt='html')))"
   ]
  },
  {
   "cell_type": "markdown",
   "metadata": {},
   "source": [
    "# Query most recent rows"
   ]
  },
  {
   "cell_type": "code",
   "execution_count": null,
   "metadata": {},
   "outputs": [],
   "source": [
    "query = (\"\"\"\n",
    "    SELECT\n",
    "      *\n",
    "    FROM\n",
    "      `%s.%s.%s`\n",
    "    WHERE\n",
    "      clientid = '%s'\n",
    "    ORDER BY\n",
    "      timestamp DESC\n",
    "    LIMIT\n",
    "      5\n",
    "    \"\"\" %(project, dataset_name, avg_table_name, client_name))\n",
    "\n",
    "# Run the query on BigQuery\n",
    "query_job = client.query(\n",
    "    query,\n",
    "    # Location must match that of the dataset(s) referenced in the query.\n",
    "    location=location)  # API request - starts the query\n",
    "\n",
    "# Display the rows in a tabulated format\n",
    "rows = []\n",
    "for row in query_job:  # API request - fetches results\n",
    "    # Row values can be accessed by field name or index\n",
    "    r = [row.timestamp, row.clientid, row.temperature, row.pressure]\n",
    "    rows.append(r)\n",
    "    \n",
    "display(HTML(tabulate.tabulate(rows, tablefmt='html')))"
   ]
  },
  {
   "cell_type": "markdown",
   "metadata": {},
   "source": [
    "And the average table has 1 row per minute, showing the last 5 minutes' sliding window average values"
   ]
  },
  {
   "cell_type": "markdown",
   "metadata": {},
   "source": [
    "# Query: Average temperature values for the last 24 hours"
   ]
  },
  {
   "cell_type": "markdown",
   "metadata": {},
   "source": [
    "## Import maptplotlib graphing library and make a SQL query"
   ]
  },
  {
   "cell_type": "code",
   "execution_count": null,
   "metadata": {},
   "outputs": [],
   "source": [
    "import matplotlib.pyplot as plt\n",
    "import warnings\n",
    "warnings.filterwarnings(\"ignore\")\n",
    "\n",
    "query = (\"\"\"\n",
    "SELECT\n",
    "  timestamp, clientid, temperature, pressure\n",
    "FROM\n",
    "  `%s.%s.%s`\n",
    "WHERE\n",
    "  clientid = \"%s\"\n",
    "ORDER BY\n",
    "  timestamp DESC\n",
    "LIMIT\n",
    "  1440\n",
    "    \"\"\" %(project, dataset_name, avg_table_name, client_name))\n",
    "\n",
    "# Run query to fetch metrics from the average table\n",
    "query_job = client.query(query, location=location)\n",
    "\n",
    "datetimes = []\n",
    "temperature_avgs = []\n",
    "pressure_avgs = []\n",
    "\n",
    "for row in query_job:\n",
    "    datetimes.append(row['timestamp'])\n",
    "    temperature_avgs.append(row['temperature'])\n",
    "    pressure_avgs.append(row['pressure'])"
   ]
  },
  {
   "cell_type": "markdown",
   "metadata": {},
   "source": [
    "## Create a simple line chart to plot the average temperature values"
   ]
  },
  {
   "cell_type": "code",
   "execution_count": null,
   "metadata": {},
   "outputs": [],
   "source": [
    "# Create a line chart for temperature\n",
    "plt.subplot(2,1,1)\n",
    "plt.plot(datetimes, temperature_avgs)\n",
    "plt.gcf().autofmt_xdate()\n",
    "plt.xlabel('DateTime')\n",
    "plt.ylabel('Temp Avg')\n",
    "\n",
    "# Create a line chart for pressure\n",
    "plt.subplot(2,1,2)\n",
    "plt.plot(datetimes, pressure_avgs)\n",
    "plt.gcf().autofmt_xdate()\n",
    "plt.xlabel('DateTime')\n",
    "plt.ylabel('Pressure Avg')\n",
    "\n",
    "plt.show()"
   ]
  },
  {
   "cell_type": "markdown",
   "metadata": {},
   "source": [
    "## Create a scatter chart to show the correlation between temperature and pressure values"
   ]
  },
  {
   "cell_type": "code",
   "execution_count": null,
   "metadata": {},
   "outputs": [],
   "source": [
    "plt.scatter(temperature_avgs, pressure_avgs)\n",
    "plt.show()"
   ]
  }
 ],
 "metadata": {
  "kernelspec": {
   "display_name": "Python 3",
   "language": "python",
   "name": "python3"
  },
  "language_info": {
   "codemirror_mode": {
    "name": "ipython",
    "version": 3
   },
   "file_extension": ".py",
   "mimetype": "text/x-python",
   "name": "python",
   "nbconvert_exporter": "python",
   "pygments_lexer": "ipython3",
   "version": "3.5.6"
  }
 },
 "nbformat": 4,
 "nbformat_minor": 2
}
